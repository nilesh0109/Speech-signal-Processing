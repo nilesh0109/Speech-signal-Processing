{
 "cells": [
  {
   "cell_type": "code",
   "execution_count": 3,
   "metadata": {},
   "outputs": [],
   "source": [
    "import librosa\n",
    "import matplotlib.pyplot as plt\n",
    "import numpy as np\n",
    "import mpld3\n",
    "import sounddevice\n",
    "mpld3.enable_notebook()"
   ]
  },
  {
   "cell_type": "code",
   "execution_count": 2,
   "metadata": {},
   "outputs": [],
   "source": [
    "y1, sr1 = librosa.core.load(\"AudioFiles/speech1.wav\", sr=None)\n",
    "y2, sr2 = librosa.core.load('AudioFiles/phone.wav', sr=None)"
   ]
  },
  {
   "cell_type": "code",
   "execution_count": 4,
   "metadata": {},
   "outputs": [],
   "source": [
    "def my_window(signal, sampling_rate, frame_length, frame_shift):\n",
    "    m = []\n",
    "    v = []\n",
    "    \n",
    "    n_length = int(sampling_rate * frame_length / 1000) # how many frames in 1 segment \n",
    "    n_shift = int(sampling_rate * frame_shift / 1000) # how many frames to shift\n",
    "    \n",
    "    total_segments = 1 + (signal.shape[0] - n_length) // n_shift\n",
    "    \n",
    "    for i in range(total_segments):\n",
    "        start = i * n_shift\n",
    "        end = start + n_length\n",
    "        \n",
    "        center = (start + end) / 2\n",
    "        period = center / sampling_rate\n",
    "        \n",
    "        v.append(period)\n",
    "        m.append(signal[start:end])\n",
    "\n",
    "    m = np.array(m)\n",
    "    v = np.array(v)\n",
    "    \n",
    "    return m, v"
   ]
  },
  {
   "cell_type": "code",
   "execution_count": null,
   "metadata": {},
   "outputs": [],
   "source": [
    "def compute_stft(v_signal:np.ndarray, fs: int, frame_legth: int, frame_shift: int, v_analysis_window: np.ndarray):\n",
    "    "
   ]
  }
 ],
 "metadata": {
  "kernelspec": {
   "display_name": "Python 3",
   "language": "python",
   "name": "python3"
  },
  "language_info": {
   "codemirror_mode": {
    "name": "ipython",
    "version": 3
   },
   "file_extension": ".py",
   "mimetype": "text/x-python",
   "name": "python",
   "nbconvert_exporter": "python",
   "pygments_lexer": "ipython3",
   "version": "3.7.4"
  }
 },
 "nbformat": 4,
 "nbformat_minor": 2
}
